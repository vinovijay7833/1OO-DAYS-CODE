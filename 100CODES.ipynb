{
  "nbformat": 4,
  "nbformat_minor": 0,
  "metadata": {
    "colab": {
      "provenance": [],
      "authorship_tag": "ABX9TyNoe+9Zh+RGLIN9nw4xQfhl",
      "include_colab_link": true
    },
    "kernelspec": {
      "name": "python3",
      "display_name": "Python 3"
    },
    "language_info": {
      "name": "python"
    }
  },
  "cells": [
    {
      "cell_type": "markdown",
      "metadata": {
        "id": "view-in-github",
        "colab_type": "text"
      },
      "source": [
        "<a href=\"https://colab.research.google.com/github/vinovijay7833/1OO-DAYS-CODE/blob/main/100CODES.ipynb\" target=\"_parent\"><img src=\"https://colab.research.google.com/assets/colab-badge.svg\" alt=\"Open In Colab\"/></a>"
      ]
    },
    {
      "cell_type": "code",
      "execution_count": null,
      "metadata": {
        "colab": {
          "base_uri": "https://localhost:8080/"
        },
        "id": "9l3hs1cgLjOx",
        "outputId": "9155d1d2-12dc-4eb1-94e6-4a00acc6f749"
      },
      "outputs": [
        {
          "output_type": "stream",
          "name": "stdout",
          "text": [
            "tc:2\n",
            "ent:3\n",
            "positive\n",
            "ent:0\n",
            "zero\n"
          ]
        }
      ],
      "source": [
        "#Getting Started\n",
        "#Positive or Negative number:\n",
        "#---------------------1------------------#\n",
        "# Brute Force\n",
        "tc=int(input(\"tc:\"))\n",
        "for i in range(tc):\n",
        "  num=int(input(\"ent:\"))\n",
        "  if num>0:\n",
        "     print(\"positive\")\n",
        "  elif num<0:\n",
        "      print(\"negative\")\n",
        "  else:\n",
        "       print(\"zero\")\n",
        "\n",
        "\n"
      ]
    },
    {
      "cell_type": "code",
      "source": [
        "#---------------------2--------------------#\n",
        "#Nested if-else Statements\n",
        "tc=int(input(\"tc:\"))\n",
        "for i in range(tc):\n",
        "  num=int(input(\"ent:\"))\n",
        "  if num>=0:\n",
        "    if num>0:\n",
        "      print(\"positive\")\n",
        "    else:\n",
        "      print(\"zero\")\n",
        "  else:\n",
        "    print(\"negative\")"
      ],
      "metadata": {
        "colab": {
          "base_uri": "https://localhost:8080/"
        },
        "id": "IHOx0XC3XCgE",
        "outputId": "e352db0b-0f41-42ff-b600-aa7064e1b7fa"
      },
      "execution_count": null,
      "outputs": [
        {
          "output_type": "stream",
          "name": "stdout",
          "text": [
            "tc:2\n",
            "ent:4\n",
            "positive\n",
            "ent:4\n",
            "positive\n"
          ]
        }
      ]
    },
    {
      "cell_type": "code",
      "source": [
        "#-----------------3-------------------#\n",
        "#ternary operator\n",
        "tc=int(input(\"tc:\"))\n",
        "for i in range(tc):\n",
        "  num=int(input(\"ent:\"))\n",
        "  print(\"positive\" if num>=0 else \"negative\")"
      ],
      "metadata": {
        "colab": {
          "base_uri": "https://localhost:8080/"
        },
        "id": "r9tl65xWPzK9",
        "outputId": "42f75858-3df9-4fee-83d5-38c0a68db8f3"
      },
      "execution_count": null,
      "outputs": [
        {
          "output_type": "stream",
          "name": "stdout",
          "text": [
            "tc:2\n",
            "ent:-1\n",
            "negative\n",
            "ent:2\n",
            "positive\n"
          ]
        }
      ]
    },
    {
      "cell_type": "code",
      "source": [
        "#Check Whether a Number is Even or Odd in Python\n",
        "#------------------1--------------------#\n",
        "#Brute Force\n",
        "tc=int(input(\"no of test case:\"))\n",
        "for i in range(tc):\n",
        "  num=int(input(\"no:\"))\n",
        "  if num%2==0:\n",
        "    print(\"even\")\n",
        "  else:\n",
        "    print(\"odd\")"
      ],
      "metadata": {
        "colab": {
          "base_uri": "https://localhost:8080/"
        },
        "id": "X4M-9BJFsJ8s",
        "outputId": "46303318-4a6b-4fbd-e6e5-5fe09f258e37"
      },
      "execution_count": null,
      "outputs": [
        {
          "output_type": "stream",
          "name": "stdout",
          "text": [
            "4\n",
            "2\n",
            "even\n",
            "2\n",
            "even\n",
            "3\n",
            "odd\n",
            "0\n",
            "even\n"
          ]
        }
      ]
    },
    {
      "cell_type": "code",
      "source": [
        "#--------------------2-----------------#\n",
        "#Ternary Operator\n",
        "tc=int(input(\"no of test case:\"))\n",
        "for i in range(tc):\n",
        "  num=int(input(\"no:\"))\n",
        "  print(\"even\" if num%2==0 else \"odd\")"
      ],
      "metadata": {
        "colab": {
          "base_uri": "https://localhost:8080/"
        },
        "id": "GNfuKTQ1tSTq",
        "outputId": "5345377d-4e37-48bf-9640-82e747ef11e4"
      },
      "execution_count": null,
      "outputs": [
        {
          "output_type": "stream",
          "name": "stdout",
          "text": [
            "no of test case:2\n",
            "no:6\n",
            "even\n",
            "no:9\n",
            "odd\n"
          ]
        }
      ]
    },
    {
      "cell_type": "code",
      "source": [
        "#----------------------3---------------------#\n",
        "#Bitwise Operators\n",
        "def even(num):\n",
        "  if num%2==0:\n",
        "    print(\"even\")\n",
        "  else:\n",
        "    print(\"odd\")\n",
        "tc=int(input(\"no of test case:\"))\n",
        "for i in range(tc):\n",
        "  num=int(input(\"no:\"))\n",
        "  even(num)"
      ],
      "metadata": {
        "colab": {
          "base_uri": "https://localhost:8080/"
        },
        "id": "9mxvSHoStr7F",
        "outputId": "4313bc76-9b4a-4539-b26f-bdf29c0fe4f7"
      },
      "execution_count": null,
      "outputs": [
        {
          "output_type": "stream",
          "name": "stdout",
          "text": [
            "no of test case:2\n",
            "no:5\n",
            "odd\n",
            "no:6\n",
            "even\n"
          ]
        }
      ]
    },
    {
      "cell_type": "code",
      "source": [],
      "metadata": {
        "id": "o5gqBCb_wW63"
      },
      "execution_count": null,
      "outputs": []
    }
  ]
}